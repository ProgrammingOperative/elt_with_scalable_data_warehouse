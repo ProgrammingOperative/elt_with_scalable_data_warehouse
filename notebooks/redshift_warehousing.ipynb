{
 "cells": [
  {
   "attachments": {},
   "cell_type": "markdown",
   "metadata": {},
   "source": [
    "### AWS INFRUSTRACTURE AS CODE USING PYTHON FOR REDSHIFT DW\n",
    "\n",
    "\n",
    "It is pretty simple to create and maintain few users and servers in the cloud using the provided UI but as they increase in number, it gets more cumbersome. \n",
    "\n",
    "This is where Infrustructure as Code (IaC) comes into play. IaC automates, maintains, deploy, replicate and share complex infrustructure as easily as one maintains code.\n",
    "\n",
    "In AWS, IaC can be made possible through the use of ```aws-cli SDK and Cloud Formation.``` \n",
    "\n",
    "AWS CloudFormation is a service that gives developers and businesses an easy way to create a collection of related AWS and third-party resources, and provision and manage them in an orderly and predictable fashion. It makes use of configuration files in json format providing a description of all resources, permissions, users etc\n",
    "\n",
    "For our case, we’ll go the SDK way using Python to access and manage redshift and its resources. For this particular case we will create a configuration file that would provide all the necessary information to access and manage the redshift cluster already developed - ```redshift_cluster.config``` file.\n",
    "\n",
    "This file would easen the programmatic access to the cluster while we write code. Information from this file are obtained from the \"properties\" window of the redshift cluster in AWS\n",
    "\n",
    "Creating an IAM role would come handy in that, we would not need to explicitly provide the public and secret keys to facilitate communication between the aws services. We'll just use this Role.\n",
    "\n"
   ]
  },
  {
   "attachments": {},
   "cell_type": "markdown",
   "metadata": {},
   "source": [
    "<img src='../images/aws_property.png' alt=\"Alternative text\" />"
   ]
  },
  {
   "cell_type": "code",
   "execution_count": 37,
   "metadata": {},
   "outputs": [],
   "source": [
    "import boto3\n",
    "import pandas as pd\n",
    "import psycopg2\n",
    "import json"
   ]
  },
  {
   "cell_type": "code",
   "execution_count": 38,
   "metadata": {},
   "outputs": [],
   "source": [
    "import configparser\n",
    "config = configparser.ConfigParser()\n",
    "config.read_file(open('../cluster.config'))"
   ]
  },
  {
   "cell_type": "code",
   "execution_count": 39,
   "metadata": {},
   "outputs": [
    {
     "data": {
      "text/plain": [
       "'########'"
      ]
     },
     "execution_count": 39,
     "metadata": {},
     "output_type": "execute_result"
    }
   ],
   "source": [
    "#Test Access To the files\n",
    "config.get('AWS', 'KEY')"
   ]
  },
  {
   "attachments": {},
   "cell_type": "markdown",
   "metadata": {},
   "source": [
    "SECURELY ACCESSING CONFIGURATION FILE"
   ]
  },
  {
   "cell_type": "code",
   "execution_count": 40,
   "metadata": {},
   "outputs": [
    {
     "data": {
      "text/plain": [
       "('awsuser', 'Testing321', 'first-redshift-db')"
      ]
     },
     "execution_count": 40,
     "metadata": {},
     "output_type": "execute_result"
    }
   ],
   "source": [
    "KEY= config.get('AWS', 'KEY')\n",
    "SECRET= config.get('AWS', 'SECRET')\n",
    "DWH_CLUSTER_TYPE=config.get('DWH', 'DWH_CLUSTER_TYPE')\n",
    "DWH_DB= config.get('DWH', 'DWH_DB')\n",
    "DWH_NUM_NODE=config.get('DWH', 'DWH_NUM_NODE')\n",
    "DWH_NODE_TYPE=config.get('DWH', 'DWH_NODE_TYPE')\n",
    "DWH_CLUSTER_IDENTIFIER=config.get('DWH', 'DWH_CLUSTER_IDENTIFIER')\n",
    "DWH_DB_USER=config.get('DWH', 'DWH_DB_USER')\n",
    "DWH_DB_PASSWORD=config.get('DWH', 'DWH_DB_PASSWORD')\n",
    "DWH_PORT=config.get('DWH', 'DWH_PORT')\n",
    "DWH_IAM_ROLE_NAME=config.get('DWH', 'DWH_IAM_ROLE_NAME')\n",
    "\n",
    "(DWH_DB_USER, DWH_DB_PASSWORD, DWH_DB)"
   ]
  },
  {
   "cell_type": "code",
   "execution_count": 41,
   "metadata": {},
   "outputs": [
    {
     "data": {
      "text/html": [
       "<div>\n",
       "<style scoped>\n",
       "    .dataframe tbody tr th:only-of-type {\n",
       "        vertical-align: middle;\n",
       "    }\n",
       "\n",
       "    .dataframe tbody tr th {\n",
       "        vertical-align: top;\n",
       "    }\n",
       "\n",
       "    .dataframe thead th {\n",
       "        text-align: right;\n",
       "    }\n",
       "</style>\n",
       "<table border=\"1\" class=\"dataframe\">\n",
       "  <thead>\n",
       "    <tr style=\"text-align: right;\">\n",
       "      <th></th>\n",
       "      <th>param</th>\n",
       "      <th>value</th>\n",
       "    </tr>\n",
       "  </thead>\n",
       "  <tbody>\n",
       "    <tr>\n",
       "      <th>0</th>\n",
       "      <td>KEY</td>\n",
       "      <td>########</td>\n",
       "    </tr>\n",
       "    <tr>\n",
       "      <th>1</th>\n",
       "      <td>SECRET</td>\n",
       "      <td>########</td>\n",
       "    </tr>\n",
       "    <tr>\n",
       "      <th>2</th>\n",
       "      <td>DWH_CLUSTER_TYPE</td>\n",
       "      <td>single-node</td>\n",
       "    </tr>\n",
       "    <tr>\n",
       "      <th>3</th>\n",
       "      <td>DWH_DB</td>\n",
       "      <td>first-redshift-db</td>\n",
       "    </tr>\n",
       "    <tr>\n",
       "      <th>4</th>\n",
       "      <td>DWN_NUM_NODE</td>\n",
       "      <td>1</td>\n",
       "    </tr>\n",
       "    <tr>\n",
       "      <th>5</th>\n",
       "      <td>DWN_NODE_TYPE</td>\n",
       "      <td>dc2.large</td>\n",
       "    </tr>\n",
       "    <tr>\n",
       "      <th>6</th>\n",
       "      <td>DWH_CLUSTER_IDENTIFIER</td>\n",
       "      <td>my-first-redshift</td>\n",
       "    </tr>\n",
       "    <tr>\n",
       "      <th>7</th>\n",
       "      <td>DWH_DB_USER</td>\n",
       "      <td>awsuser</td>\n",
       "    </tr>\n",
       "    <tr>\n",
       "      <th>8</th>\n",
       "      <td>DWH_DB_PASSWORD</td>\n",
       "      <td>Testing321</td>\n",
       "    </tr>\n",
       "    <tr>\n",
       "      <th>9</th>\n",
       "      <td>DWH_PORT</td>\n",
       "      <td>5439</td>\n",
       "    </tr>\n",
       "    <tr>\n",
       "      <th>10</th>\n",
       "      <td>DWH_IAM_ROLE_NAME</td>\n",
       "      <td>redshift-s3-access</td>\n",
       "    </tr>\n",
       "  </tbody>\n",
       "</table>\n",
       "</div>"
      ],
      "text/plain": [
       "                     param               value\n",
       "0                      KEY            ########\n",
       "1                   SECRET            ########\n",
       "2         DWH_CLUSTER_TYPE         single-node\n",
       "3                   DWH_DB   first-redshift-db\n",
       "4             DWN_NUM_NODE                   1\n",
       "5            DWN_NODE_TYPE           dc2.large\n",
       "6   DWH_CLUSTER_IDENTIFIER   my-first-redshift\n",
       "7              DWH_DB_USER             awsuser\n",
       "8          DWH_DB_PASSWORD          Testing321\n",
       "9                 DWH_PORT                5439\n",
       "10       DWH_IAM_ROLE_NAME  redshift-s3-access"
      ]
     },
     "execution_count": 41,
     "metadata": {},
     "output_type": "execute_result"
    }
   ],
   "source": [
    "pd.DataFrame({'param':\n",
    "                ['KEY', 'SECRET', 'DWH_CLUSTER_TYPE', 'DWH_DB', 'DWN_NUM_NODE', 'DWN_NODE_TYPE','DWH_CLUSTER_IDENTIFIER', 'DWH_DB_USER', 'DWH_DB_PASSWORD', 'DWH_PORT', 'DWH_IAM_ROLE_NAME'],\n",
    "              \n",
    "              'value':\n",
    "                [KEY, SECRET, DWH_CLUSTER_TYPE, DWH_DB, DWH_NUM_NODE, DWH_NODE_TYPE,DWH_CLUSTER_IDENTIFIER, DWH_DB_USER, DWH_DB_PASSWORD, DWH_PORT, DWH_IAM_ROLE_NAME]})"
   ]
  },
  {
   "attachments": {},
   "cell_type": "markdown",
   "metadata": {},
   "source": [
    "CONNECT TO AWS\n",
    "\n",
    "For my key and secret, I will store them in a folder ignored in this project, for security purposes"
   ]
  },
  {
   "cell_type": "code",
   "execution_count": 42,
   "metadata": {},
   "outputs": [],
   "source": [
    "key_config = configparser.ConfigParser()\n",
    "key_config.read_file(open('../private/redshift_cluster.config'))\n",
    "\n",
    "KEY = key_config.get('AWS','KEY')\n",
    "SECRET = key_config.get('AWS','SECRET')"
   ]
  },
  {
   "cell_type": "code",
   "execution_count": 43,
   "metadata": {},
   "outputs": [],
   "source": [
    "ec2 = boto3.resource('ec2', \n",
    "                        region_name='us-east-2', \n",
    "                        aws_access_key_id=KEY, \n",
    "                        aws_secret_access_key=SECRET)\n",
    "\n",
    "s3 = boto3.resource('s3', \n",
    "                        region_name='us-east-2', \n",
    "                        aws_access_key_id=KEY, \n",
    "                        aws_secret_access_key=SECRET)\n",
    "\n",
    "\n",
    "iam = boto3.client('iam', \n",
    "                        region_name='us-east-2', \n",
    "                        aws_access_key_id=KEY, \n",
    "                        aws_secret_access_key=SECRET)\n",
    "\n",
    "redshift = boto3.client('redshift', \n",
    "                        region_name='us-east-2', \n",
    "                        aws_access_key_id=KEY, \n",
    "                        aws_secret_access_key=SECRET)"
   ]
  },
  {
   "attachments": {},
   "cell_type": "markdown",
   "metadata": {},
   "source": [
    "CONNECT TO A BUCKET AND ACCESS OBJECTS WITHIN IT"
   ]
  },
  {
   "cell_type": "code",
   "execution_count": 44,
   "metadata": {},
   "outputs": [
    {
     "data": {
      "text/plain": [
       "['another_data_copy.csv', 'cleaned.csv', 'version2.csv']"
      ]
     },
     "execution_count": 44,
     "metadata": {},
     "output_type": "execute_result"
    }
   ],
   "source": [
    "bucket = s3.Bucket('tito-dataeng-redshift')\n",
    "log_data_files = [filename.key for filename in bucket.objects.all()]\n",
    "log_data_files"
   ]
  },
  {
   "attachments": {},
   "cell_type": "markdown",
   "metadata": {},
   "source": [
    "ARN\n",
    "\n",
    "Amazon Resource Names (ARNs) uniquely identify AWS resources. We require an ARN when you need to specify a resource unambiguously across all of AWS, such as in IAM policies, Amazon Relational Database Service (Amazon RDS) tags, and API calls.\n"
   ]
  },
  {
   "cell_type": "code",
   "execution_count": 45,
   "metadata": {},
   "outputs": [],
   "source": [
    "#Uniquely determining the rolename with the permission to access s3 buckets\n",
    "roleARN = iam.get_role(RoleName=DWH_IAM_ROLE_NAME)['Role']['Arn']"
   ]
  },
  {
   "attachments": {},
   "cell_type": "markdown",
   "metadata": {},
   "source": [
    "CREATE REDSHIFT CLUSTER"
   ]
  },
  {
   "cell_type": "code",
   "execution_count": 48,
   "metadata": {},
   "outputs": [],
   "source": [
    "try:\n",
    "    response = redshift.create_cluster(\n",
    "            ClusterType=DWH_CLUSTER_TYPE,\n",
    "            NodeType=DWH_NODE_TYPE,\n",
    "\n",
    "            #Identifier and credentials\n",
    "            ClusterIdentifier=DWH_CLUSTER_IDENTIFIER,\n",
    "            DBName=DWH_DB,\n",
    "            MasterUsername=DWH_DB_USER,\n",
    "            MasterUserPassword=DWH_DB_PASSWORD,\n",
    "\n",
    "            #Roles For s3 access\n",
    "            IamRoles=[\n",
    "                    roleARN\n",
    "                    ],\n",
    "    )\n",
    "    \n",
    "\n",
    "except Exception as e:\n",
    "    print(e)"
   ]
  },
  {
   "attachments": {},
   "cell_type": "markdown",
   "metadata": {},
   "source": [
    "DESCRIBE CLUSTER DETAILS"
   ]
  },
  {
   "cell_type": "code",
   "execution_count": 66,
   "metadata": {},
   "outputs": [
    {
     "data": {
      "text/plain": [
       "{'ClusterIdentifier': 'my-first-redshift',\n",
       " 'NodeType': 'dc2.large',\n",
       " 'ClusterStatus': 'available',\n",
       " 'ClusterAvailabilityStatus': 'Available',\n",
       " 'MasterUsername': 'awsuser',\n",
       " 'DBName': 'first-redshift-db',\n",
       " 'Endpoint': {'Address': 'my-first-redshift.cwdmvcljvlpf.us-east-2.redshift.amazonaws.com',\n",
       "  'Port': 5439},\n",
       " 'ClusterCreateTime': datetime.datetime(2023, 1, 8, 5, 32, 32, 991000, tzinfo=tzutc()),\n",
       " 'AutomatedSnapshotRetentionPeriod': 1,\n",
       " 'ManualSnapshotRetentionPeriod': -1,\n",
       " 'ClusterSecurityGroups': [],\n",
       " 'VpcSecurityGroups': [{'VpcSecurityGroupId': 'sg-01121b86867248be0',\n",
       "   'Status': 'active'}],\n",
       " 'ClusterParameterGroups': [{'ParameterGroupName': 'default.redshift-1.0',\n",
       "   'ParameterApplyStatus': 'in-sync'}],\n",
       " 'ClusterSubnetGroupName': 'default',\n",
       " 'VpcId': 'vpc-0343be62f9b6090eb',\n",
       " 'AvailabilityZone': 'us-east-2b',\n",
       " 'PreferredMaintenanceWindow': 'tue:06:00-tue:06:30',\n",
       " 'PendingModifiedValues': {},\n",
       " 'ClusterVersion': '1.0',\n",
       " 'AllowVersionUpgrade': True,\n",
       " 'NumberOfNodes': 1,\n",
       " 'PubliclyAccessible': True,\n",
       " 'Encrypted': False,\n",
       " 'ClusterPublicKey': 'ssh-rsa AAAAB3NzaC1yc2EAAAADAQABAAABAQCv6B2QAspuOELdaMbLuheNa0PlfshBENe7/Dy0YfbzKI/hgatmzHTz3D0Mhc+jLXqVgOMAQVMt0KwDCQrHJXgF+oGAk5dcEdQd1w28jqJfj3K/UtM1Y2EmYZyPx9ckfju8V7BwIep7bY0FhjqxrLugfhtvPIHgHz5clasCGI2JVdbned8iYvUwhJgcjh3CzvmtemQWWHYBMZeGlBmKdIdPmgNTN7TyfhRBErrsRDIf9gSjFnKQY/n1YJEvVpk99Vm5LVESG40j7nnoKwNtvv4zLjVXrLKwfTvyZXKGzorZb458Y6Sy+Ea3OIGCFcqaV4dO9U5y/zDZXss7vd1av4IJ Amazon-Redshift\\n',\n",
       " 'ClusterNodes': [{'NodeRole': 'SHARED',\n",
       "   'PrivateIPAddress': '172.31.26.143',\n",
       "   'PublicIPAddress': '18.219.13.110'}],\n",
       " 'ClusterRevisionNumber': '44903',\n",
       " 'Tags': [],\n",
       " 'EnhancedVpcRouting': False,\n",
       " 'IamRoles': [{'IamRoleArn': 'arn:aws:iam::111073163351:role/redshift-s3-access',\n",
       "   'ApplyStatus': 'in-sync'}],\n",
       " 'MaintenanceTrackName': 'current',\n",
       " 'DeferredMaintenanceWindows': [],\n",
       " 'NextMaintenanceWindowStartTime': datetime.datetime(2023, 1, 10, 6, 0, tzinfo=tzutc()),\n",
       " 'AvailabilityZoneRelocationStatus': 'disabled',\n",
       " 'ClusterNamespaceArn': 'arn:aws:redshift:us-east-2:111073163351:namespace:6f39ac83-829d-4e32-ab92-22586018acf3',\n",
       " 'TotalStorageCapacityInMegaBytes': 400000,\n",
       " 'AquaConfiguration': {'AquaStatus': 'disabled',\n",
       "  'AquaConfigurationStatus': 'auto'}}"
      ]
     },
     "execution_count": 66,
     "metadata": {},
     "output_type": "execute_result"
    }
   ],
   "source": [
    "cluster_details = redshift.describe_clusters(ClusterIdentifier=DWH_CLUSTER_IDENTIFIER)['Clusters'][0]\n",
    "cluster_details"
   ]
  },
  {
   "cell_type": "code",
   "execution_count": 67,
   "metadata": {},
   "outputs": [
    {
     "data": {
      "text/html": [
       "<div>\n",
       "<style scoped>\n",
       "    .dataframe tbody tr th:only-of-type {\n",
       "        vertical-align: middle;\n",
       "    }\n",
       "\n",
       "    .dataframe tbody tr th {\n",
       "        vertical-align: top;\n",
       "    }\n",
       "\n",
       "    .dataframe thead th {\n",
       "        text-align: right;\n",
       "    }\n",
       "</style>\n",
       "<table border=\"1\" class=\"dataframe\">\n",
       "  <thead>\n",
       "    <tr style=\"text-align: right;\">\n",
       "      <th></th>\n",
       "      <th>key</th>\n",
       "      <th>value</th>\n",
       "    </tr>\n",
       "  </thead>\n",
       "  <tbody>\n",
       "    <tr>\n",
       "      <th>0</th>\n",
       "      <td>ClusterIdentifier</td>\n",
       "      <td>my-first-redshift</td>\n",
       "    </tr>\n",
       "    <tr>\n",
       "      <th>1</th>\n",
       "      <td>NodeType</td>\n",
       "      <td>dc2.large</td>\n",
       "    </tr>\n",
       "    <tr>\n",
       "      <th>2</th>\n",
       "      <td>ClusterStatus</td>\n",
       "      <td>available</td>\n",
       "    </tr>\n",
       "    <tr>\n",
       "      <th>3</th>\n",
       "      <td>MasterUsername</td>\n",
       "      <td>awsuser</td>\n",
       "    </tr>\n",
       "    <tr>\n",
       "      <th>4</th>\n",
       "      <td>DBName</td>\n",
       "      <td>first-redshift-db</td>\n",
       "    </tr>\n",
       "    <tr>\n",
       "      <th>5</th>\n",
       "      <td>Endpoint</td>\n",
       "      <td>{'Address': 'my-first-redshift.cwdmvcljvlpf.us-east-2.redshift.amazonaws.com', 'Port': 5439}</td>\n",
       "    </tr>\n",
       "    <tr>\n",
       "      <th>6</th>\n",
       "      <td>VpcId</td>\n",
       "      <td>vpc-0343be62f9b6090eb</td>\n",
       "    </tr>\n",
       "  </tbody>\n",
       "</table>\n",
       "</div>"
      ],
      "text/plain": [
       "                 key  \\\n",
       "0  ClusterIdentifier   \n",
       "1           NodeType   \n",
       "2      ClusterStatus   \n",
       "3     MasterUsername   \n",
       "4             DBName   \n",
       "5           Endpoint   \n",
       "6              VpcId   \n",
       "\n",
       "                                                                                          value  \n",
       "0                                                                             my-first-redshift  \n",
       "1                                                                                     dc2.large  \n",
       "2                                                                                     available  \n",
       "3                                                                                       awsuser  \n",
       "4                                                                             first-redshift-db  \n",
       "5  {'Address': 'my-first-redshift.cwdmvcljvlpf.us-east-2.redshift.amazonaws.com', 'Port': 5439}  \n",
       "6                                                                         vpc-0343be62f9b6090eb  "
      ]
     },
     "execution_count": 67,
     "metadata": {},
     "output_type": "execute_result"
    }
   ],
   "source": [
    "def prettyRedshiftProps(props):\n",
    "    pd.set_option('display.max_colwidth', None)\n",
    "    keysToShow = ['ClusterIdentifier', 'NodeType', 'ClusterStatus', 'MasterUsername', 'DBName', 'Endpoint', 'ClusterStatus', 'VpcId']\n",
    "    x = [(k, v) for k,v in props.items() if k in keysToShow]\n",
    "    return pd.DataFrame(data=x, columns=['key', 'value'])\n",
    "    \n",
    "prettyRedshiftProps(cluster_details)"
   ]
  },
  {
   "attachments": {},
   "cell_type": "markdown",
   "metadata": {},
   "source": [
    "ATTACH VPC TO THE REDSHIFT CLUSTER USING ec2 CONNECTION"
   ]
  },
  {
   "cell_type": "code",
   "execution_count": 78,
   "metadata": {},
   "outputs": [
    {
     "name": "stdout",
     "output_type": "stream",
     "text": [
      "An error occurred (InvalidPermission.Duplicate) when calling the AuthorizeSecurityGroupIngress operation: the specified rule \"peer: 0.0.0.0/0, TCP, from port: 5439, to port: 5439, ALLOW\" already exists\n"
     ]
    }
   ],
   "source": [
    "try:\n",
    "    vpc = ec2.Vpc(id=cluster_details['VpcId'])\n",
    "    defaultSG = list(vpc.security_groups.all())[0]\n",
    "\n",
    "    defaultSG.authorize_ingress(\n",
    "            CidrIp='0.0.0.0/0',\n",
    "            IpProtocol='TCP',\n",
    "            FromPort=int(DWH_PORT),\n",
    "            ToPort=int(DWH_PORT),\n",
    "            GroupName=defaultSG.group_name\n",
    "    )\n",
    "\n",
    "    print(\"VPC Attached to Redshift through ec2\")\n",
    "\n",
    "\n",
    "except Exception as e:\n",
    "    print(e)"
   ]
  },
  {
   "cell_type": "code",
   "execution_count": null,
   "metadata": {},
   "outputs": [],
   "source": []
  }
 ],
 "metadata": {
  "kernelspec": {
   "display_name": "data_engineering",
   "language": "python",
   "name": "python3"
  },
  "language_info": {
   "codemirror_mode": {
    "name": "ipython",
    "version": 3
   },
   "file_extension": ".py",
   "mimetype": "text/x-python",
   "name": "python",
   "nbconvert_exporter": "python",
   "pygments_lexer": "ipython3",
   "version": "3.10.5"
  },
  "orig_nbformat": 4,
  "vscode": {
   "interpreter": {
    "hash": "9de2cd8f42cb32e2542cbb467491be9e65e63331d655f6c7b4afb5c7d97ef756"
   }
  }
 },
 "nbformat": 4,
 "nbformat_minor": 2
}
